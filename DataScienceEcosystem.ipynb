{
 "cells": [
  {
   "cell_type": "markdown",
   "id": "8146c33e-b46e-419e-85df-781724e05e0e",
   "metadata": {},
   "source": [
    "# Data Science Tools and Ecosystem"
   ]
  },
  {
   "cell_type": "markdown",
   "id": "3e97546a-603e-4dde-b6d3-93e78240524a",
   "metadata": {
    "tags": []
   },
   "source": [
    "In this notebook, Data Science Tools and Ecosystem are summarized. Let's get started. "
   ]
  },
  {
   "cell_type": "markdown",
   "id": "4f19bd20-876a-4813-8a48-1af0544b0d15",
   "metadata": {},
   "source": [
    "**Objectives:**\n",
    "\n",
    "- List popular languages for Data Science \n",
    "- Describe commonly used libraries in Data Science\n",
    "- Overview of Data Science Tools\n",
    "- Introdution to basic arithmetic operations in Python "
   ]
  },
  {
   "cell_type": "markdown",
   "id": "e466963c-a5a5-4968-9809-4ed84c681f35",
   "metadata": {},
   "source": [
    "Some of the popular languages that Data Scientists use are:"
   ]
  },
  {
   "cell_type": "markdown",
   "id": "6d716696-872a-4169-aed0-58835038bf97",
   "metadata": {},
   "source": [
    "1. Phython\n",
    "2. R\n",
    "3. SQL\n",
    "4. Scala\n",
    "5. Java\n",
    "6. Julia\n",
    "7. C++"
   ]
  },
  {
   "cell_type": "markdown",
   "id": "27a8495b-5d68-425c-9eb3-f0b0435c8315",
   "metadata": {},
   "source": [
    "Some of the commonly used libraries used by Data Scientists include:"
   ]
  },
  {
   "cell_type": "markdown",
   "id": "6de094b0-36be-47f1-9e20-f451b87d53c8",
   "metadata": {},
   "source": [
    "1. Pandas\n",
    "2. NumPy\n",
    "3. Matplotlib\n",
    "4. Scikit-learn\n",
    "5. SciPy"
   ]
  },
  {
   "cell_type": "markdown",
   "id": "81519b83-112c-45b2-9ad8-072d8c900976",
   "metadata": {},
   "source": [
    "| Data Science Tools |\n",
    "| ------------------ |\n",
    "| Jupyter Notebook |\n",
    "| RSudio |\n",
    "| Apache Zeppelin |"
   ]
  },
  {
   "cell_type": "markdown",
   "id": "21da9b7d-4f44-4753-aee5-7a379b5f6a0b",
   "metadata": {},
   "source": [
    "### Below are a few examples of evaluating arithmetic expressions in Python."
   ]
  },
  {
   "cell_type": "markdown",
   "id": "67e40878-b626-4f3a-b1d2-01f75c1b6f10",
   "metadata": {},
   "source": [
    "This a simple arithmetic expression to multiply then add integers."
   ]
  },
  {
   "cell_type": "code",
   "execution_count": 3,
   "id": "a043026b-ac7b-4777-8ccd-a196b5058ff2",
   "metadata": {
    "tags": []
   },
   "outputs": [
    {
     "data": {
      "text/plain": [
       "17"
      ]
     },
     "execution_count": 3,
     "metadata": {},
     "output_type": "execute_result"
    }
   ],
   "source": [
    "(3*4)+5"
   ]
  },
  {
   "cell_type": "markdown",
   "id": "57a9a2bc-e917-4371-8513-ef4e4067b431",
   "metadata": {},
   "source": [
    "This will convert 200 minutes to hours by diving by 60."
   ]
  },
  {
   "cell_type": "code",
   "execution_count": 4,
   "id": "2842bb6a-d11c-440b-bb8a-3ea5a454040a",
   "metadata": {
    "tags": []
   },
   "outputs": [
    {
     "name": "stdout",
     "output_type": "stream",
     "text": [
      "3.3333333333333335\n"
     ]
    }
   ],
   "source": [
    "minutes = 200\n",
    "hours = minutes / 60\n",
    "print (hours)"
   ]
  },
  {
   "cell_type": "code",
   "execution_count": null,
   "id": "97ba9e43-21bc-4d4f-9994-b7ca65f2ec4b",
   "metadata": {},
   "outputs": [],
   "source": []
  },
  {
   "cell_type": "markdown",
   "id": "5553e3ec-3aa3-4fc9-923f-1418228262b8",
   "metadata": {},
   "source": [
    "## Author\n",
    "Blake Pourzal"
   ]
  },
  {
   "cell_type": "code",
   "execution_count": null,
   "id": "8d3a0596-120f-4d43-8d41-e2127ad3f8b6",
   "metadata": {},
   "outputs": [],
   "source": []
  }
 ],
 "metadata": {
  "kernelspec": {
   "display_name": "Python",
   "language": "python",
   "name": "conda-env-python-py"
  },
  "language_info": {
   "codemirror_mode": {
    "name": "ipython",
    "version": 3
   },
   "file_extension": ".py",
   "mimetype": "text/x-python",
   "name": "python",
   "nbconvert_exporter": "python",
   "pygments_lexer": "ipython3",
   "version": "3.7.12"
  }
 },
 "nbformat": 4,
 "nbformat_minor": 5
}
